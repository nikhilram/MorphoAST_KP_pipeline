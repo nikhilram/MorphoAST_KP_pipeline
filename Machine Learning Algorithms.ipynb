{
 "cells": [
  {
   "cell_type": "markdown",
   "id": "1d027748",
   "metadata": {},
   "source": [
    "# Import libraries and read csv file into DataFrame"
   ]
  },
  {
   "cell_type": "code",
   "execution_count": 2,
   "id": "058163df",
   "metadata": {},
   "outputs": [
    {
     "data": {
      "text/html": [
       "<div>\n",
       "<style scoped>\n",
       "    .dataframe tbody tr th:only-of-type {\n",
       "        vertical-align: middle;\n",
       "    }\n",
       "\n",
       "    .dataframe tbody tr th {\n",
       "        vertical-align: top;\n",
       "    }\n",
       "\n",
       "    .dataframe thead th {\n",
       "        text-align: right;\n",
       "    }\n",
       "</style>\n",
       "<table border=\"1\" class=\"dataframe\">\n",
       "  <thead>\n",
       "    <tr style=\"text-align: right;\">\n",
       "      <th></th>\n",
       "      <th>AREA</th>\n",
       "      <th>RATIO</th>\n",
       "      <th>CIRCULARITY</th>\n",
       "      <th>LENGTH</th>\n",
       "      <th>PERIMETER</th>\n",
       "      <th>STRING</th>\n",
       "      <th>CONCENTRATION</th>\n",
       "      <th>GROWTH</th>\n",
       "    </tr>\n",
       "  </thead>\n",
       "  <tbody>\n",
       "    <tr>\n",
       "      <th>0</th>\n",
       "      <td>0.004812</td>\n",
       "      <td>0.004346</td>\n",
       "      <td>-0.007864</td>\n",
       "      <td>0.007087</td>\n",
       "      <td>0.006338</td>\n",
       "      <td>16</td>\n",
       "      <td>0.0</td>\n",
       "      <td>1</td>\n",
       "    </tr>\n",
       "    <tr>\n",
       "      <th>1</th>\n",
       "      <td>0.009479</td>\n",
       "      <td>0.000218</td>\n",
       "      <td>-0.006588</td>\n",
       "      <td>0.008193</td>\n",
       "      <td>0.008033</td>\n",
       "      <td>16</td>\n",
       "      <td>0.0</td>\n",
       "      <td>1</td>\n",
       "    </tr>\n",
       "    <tr>\n",
       "      <th>2</th>\n",
       "      <td>0.008181</td>\n",
       "      <td>0.010873</td>\n",
       "      <td>-0.006254</td>\n",
       "      <td>0.009161</td>\n",
       "      <td>0.007218</td>\n",
       "      <td>16</td>\n",
       "      <td>0.0</td>\n",
       "      <td>1</td>\n",
       "    </tr>\n",
       "    <tr>\n",
       "      <th>3</th>\n",
       "      <td>0.012376</td>\n",
       "      <td>0.011386</td>\n",
       "      <td>-0.006329</td>\n",
       "      <td>0.010944</td>\n",
       "      <td>0.009353</td>\n",
       "      <td>16</td>\n",
       "      <td>0.0</td>\n",
       "      <td>1</td>\n",
       "    </tr>\n",
       "    <tr>\n",
       "      <th>4</th>\n",
       "      <td>0.008357</td>\n",
       "      <td>0.000822</td>\n",
       "      <td>-0.000596</td>\n",
       "      <td>0.005009</td>\n",
       "      <td>0.004476</td>\n",
       "      <td>16</td>\n",
       "      <td>0.0</td>\n",
       "      <td>1</td>\n",
       "    </tr>\n",
       "    <tr>\n",
       "      <th>...</th>\n",
       "      <td>...</td>\n",
       "      <td>...</td>\n",
       "      <td>...</td>\n",
       "      <td>...</td>\n",
       "      <td>...</td>\n",
       "      <td>...</td>\n",
       "      <td>...</td>\n",
       "      <td>...</td>\n",
       "    </tr>\n",
       "    <tr>\n",
       "      <th>1333</th>\n",
       "      <td>0.007230</td>\n",
       "      <td>0.003263</td>\n",
       "      <td>-0.001796</td>\n",
       "      <td>0.004656</td>\n",
       "      <td>0.004513</td>\n",
       "      <td>142</td>\n",
       "      <td>50.0</td>\n",
       "      <td>0</td>\n",
       "    </tr>\n",
       "    <tr>\n",
       "      <th>1334</th>\n",
       "      <td>0.008641</td>\n",
       "      <td>-0.001582</td>\n",
       "      <td>0.000483</td>\n",
       "      <td>0.004287</td>\n",
       "      <td>0.004079</td>\n",
       "      <td>142</td>\n",
       "      <td>50.0</td>\n",
       "      <td>0</td>\n",
       "    </tr>\n",
       "    <tr>\n",
       "      <th>1335</th>\n",
       "      <td>0.006322</td>\n",
       "      <td>0.000359</td>\n",
       "      <td>-0.000242</td>\n",
       "      <td>0.004035</td>\n",
       "      <td>0.003282</td>\n",
       "      <td>142</td>\n",
       "      <td>50.0</td>\n",
       "      <td>0</td>\n",
       "    </tr>\n",
       "    <tr>\n",
       "      <th>1336</th>\n",
       "      <td>0.005537</td>\n",
       "      <td>-0.000665</td>\n",
       "      <td>-0.000663</td>\n",
       "      <td>0.003749</td>\n",
       "      <td>0.003100</td>\n",
       "      <td>142</td>\n",
       "      <td>50.0</td>\n",
       "      <td>0</td>\n",
       "    </tr>\n",
       "    <tr>\n",
       "      <th>1337</th>\n",
       "      <td>0.008429</td>\n",
       "      <td>0.001014</td>\n",
       "      <td>-0.001035</td>\n",
       "      <td>0.005147</td>\n",
       "      <td>0.004732</td>\n",
       "      <td>142</td>\n",
       "      <td>50.0</td>\n",
       "      <td>0</td>\n",
       "    </tr>\n",
       "  </tbody>\n",
       "</table>\n",
       "<p>1338 rows × 8 columns</p>\n",
       "</div>"
      ],
      "text/plain": [
       "          AREA     RATIO  CIRCULARITY    LENGTH  PERIMETER  STRING  \\\n",
       "0     0.004812  0.004346    -0.007864  0.007087   0.006338      16   \n",
       "1     0.009479  0.000218    -0.006588  0.008193   0.008033      16   \n",
       "2     0.008181  0.010873    -0.006254  0.009161   0.007218      16   \n",
       "3     0.012376  0.011386    -0.006329  0.010944   0.009353      16   \n",
       "4     0.008357  0.000822    -0.000596  0.005009   0.004476      16   \n",
       "...        ...       ...          ...       ...        ...     ...   \n",
       "1333  0.007230  0.003263    -0.001796  0.004656   0.004513     142   \n",
       "1334  0.008641 -0.001582     0.000483  0.004287   0.004079     142   \n",
       "1335  0.006322  0.000359    -0.000242  0.004035   0.003282     142   \n",
       "1336  0.005537 -0.000665    -0.000663  0.003749   0.003100     142   \n",
       "1337  0.008429  0.001014    -0.001035  0.005147   0.004732     142   \n",
       "\n",
       "      CONCENTRATION  GROWTH  \n",
       "0               0.0       1  \n",
       "1               0.0       1  \n",
       "2               0.0       1  \n",
       "3               0.0       1  \n",
       "4               0.0       1  \n",
       "...             ...     ...  \n",
       "1333           50.0       0  \n",
       "1334           50.0       0  \n",
       "1335           50.0       0  \n",
       "1336           50.0       0  \n",
       "1337           50.0       0  \n",
       "\n",
       "[1338 rows x 8 columns]"
      ]
     },
     "execution_count": 2,
     "metadata": {},
     "output_type": "execute_result"
    }
   ],
   "source": [
    "import pandas as pd \n",
    "import numpy as np\n",
    "import matplotlib.pyplot as plt\n",
    "from sklearn.neighbors import KNeighborsClassifier\n",
    "from sklearn import metrics \n",
    "from sklearn.metrics import plot_confusion_matrix\n",
    "from itertools import combinations\n",
    "from sklearn.preprocessing import StandardScaler\n",
    "from sklearn.model_selection import train_test_split\n",
    "from sklearn.neural_network import MLPClassifier\n",
    "from sklearn.metrics import classification_report,confusion_matrix\n",
    "%matplotlib inline\n",
    "\n",
    "df = pd.read_csv('example_output_rates.csv', index_col=0)\n",
    "\n",
    "df"
   ]
  },
  {
   "cell_type": "markdown",
   "id": "43b79586",
   "metadata": {},
   "source": [
    "# kNN Model and Confusion Matrix"
   ]
  },
  {
   "cell_type": "code",
   "execution_count": 6,
   "id": "3f454e83",
   "metadata": {},
   "outputs": [
    {
     "name": "stdout",
     "output_type": "stream",
     "text": [
      "Accuracy: 0.8980099502487562\n"
     ]
    },
    {
     "data": {
      "image/png": "[encoded data removed]",
      "text/plain": [
       "<Figure size 432x288 with 2 Axes>"
      ]
     },
     "metadata": {
      "needs_background": "light"
     },
     "output_type": "display_data"
    }
   ],
   "source": [
    "knn_features_all = ['AREA', 'RATIO', 'CIRCULARITY', 'LENGTH', 'PERIMETER']\n",
    "\n",
    "X = df[knn_features_all]\n",
    "y = df.GROWTH\n",
    "    \n",
    "X_train, X_test, y_train, y_test = train_test_split(X, y, test_size=0.3)\n",
    "    \n",
    "knn = KNeighborsClassifier(n_neighbors = 10)\n",
    "\n",
    "knn.fit(X_train, y_train)\n",
    "\n",
    "y_pred = knn.predict(X_test)\n",
    "    \n",
    "print(\"Accuracy:\", metrics.accuracy_score(y_test, y_pred))\n",
    "\n",
    "plt.rcParams.update({'font.size': 16})\n",
    "plot_confusion_matrix(knn, X_test, y_test, labels=[1,0], cmap=plt.cm.Blues)  \n",
    "plt.show()"
   ]
  },
  {
   "cell_type": "markdown",
   "id": "f71a6a1d",
   "metadata": {},
   "source": [
    "# NN Model and Confusion Matrix "
   ]
  },
  {
   "cell_type": "code",
   "execution_count": 7,
   "id": "0541f059",
   "metadata": {},
   "outputs": [
    {
     "name": "stdout",
     "output_type": "stream",
     "text": [
      "              precision    recall  f1-score   support\n",
      "\n",
      "           0       0.82      0.69      0.75       147\n",
      "           1       0.84      0.91      0.87       255\n",
      "\n",
      "    accuracy                           0.83       402\n",
      "   macro avg       0.83      0.80      0.81       402\n",
      "weighted avg       0.83      0.83      0.83       402\n",
      "\n"
     ]
    },
    {
     "data": {
      "image/png": "[encoded data removed]",
      "text/plain": [
       "<Figure size 432x288 with 2 Axes>"
      ]
     },
     "metadata": {
      "needs_background": "light"
     },
     "output_type": "display_data"
    }
   ],
   "source": [
    "nn_df = df\n",
    "\n",
    "nn_features = ['AREA', 'RATIO', 'CIRCULARITY', 'LENGTH', 'PERIMETER']\n",
    "\n",
    "X = nn_df[nn_features]\n",
    "y = nn_df['GROWTH']\n",
    "    \n",
    "X_train, X_test, y_train, y_test = train_test_split(X, y, test_size=0.3)\n",
    "    \n",
    "scaler = StandardScaler()\n",
    "scaler.fit(X_train)\n",
    "\n",
    "X_train = scaler.transform(X_train)\n",
    "X_test = scaler.transform(X_test)\n",
    "    \n",
    "mlp = MLPClassifier(solver=\"adam\", alpha=1, random_state=1, hidden_layer_sizes=(2, 2),max_iter=2000)\n",
    "mlp.fit(X_train,y_train)\n",
    "predictions = mlp.predict(X_test)\n",
    "    \n",
    "print(classification_report(y_test,predictions))\n",
    "    \n",
    "plt.rcParams.update({'font.size': 16})\n",
    "plot_confusion_matrix(mlp, X_test, y_test, labels=[1,0], cmap=plt.cm.Blues)  \n",
    "plt.show()"
   ]
  },
  {
   "cell_type": "markdown",
   "id": "56f4e227",
   "metadata": {},
   "source": [
    "# kNN - Multiple model runs"
   ]
  },
  {
   "cell_type": "code",
   "execution_count": 8,
   "id": "c970ceda",
   "metadata": {},
   "outputs": [
    {
     "name": "stdout",
     "output_type": "stream",
     "text": [
      "Number: 1\n",
      "Accuracy: 0.8557213930348259\n",
      "Number: 2\n",
      "Accuracy: 0.8905472636815921\n",
      "Number: 3\n",
      "Accuracy: 0.9154228855721394\n",
      "Number: 4\n",
      "Accuracy: 0.917910447761194\n",
      "Number: 5\n",
      "Accuracy: 0.8930348258706468\n",
      "Number: 6\n",
      "Accuracy: 0.8805970149253731\n",
      "Number: 7\n",
      "Accuracy: 0.9154228855721394\n",
      "Number: 8\n",
      "Accuracy: 0.8805970149253731\n",
      "Number: 9\n",
      "Accuracy: 0.8980099502487562\n",
      "Number: 10\n",
      "Accuracy: 0.900497512437811\n"
     ]
    }
   ],
   "source": [
    "# MULTIPLE RUNS - ACCURACIES - run model ten times to get range of accuracies - kNN\n",
    "\n",
    "df\n",
    "\n",
    "knn_features_all = ['AREA', 'RATIO', 'CIRCULARITY', 'LENGTH', 'PERIMETER']\n",
    "\n",
    "for i in range(10):\n",
    "    \n",
    "    X = df[knn_features_all]\n",
    "    y = df.GROWTH\n",
    "    \n",
    "    X_train, X_test, y_train, y_test = train_test_split(X, y, test_size=0.3)\n",
    "    \n",
    "    knn = KNeighborsClassifier(n_neighbors = 10)\n",
    "\n",
    "    knn.fit(X_train, y_train)\n",
    "\n",
    "    y_pred = knn.predict(X_test)\n",
    "    \n",
    "    print(f\"Number: {i+1}\")\n",
    "    print(\"Accuracy:\", metrics.accuracy_score(y_test, y_pred))"
   ]
  },
  {
   "cell_type": "markdown",
   "id": "af3d5b1f",
   "metadata": {},
   "source": [
    "# NN - Multiple model runs "
   ]
  },
  {
   "cell_type": "code",
   "execution_count": 9,
   "id": "c785729e",
   "metadata": {},
   "outputs": [
    {
     "name": "stdout",
     "output_type": "stream",
     "text": [
      "Number: 1\n",
      "score: 0.861\n",
      "Number: 2\n",
      "score: 0.868\n",
      "Number: 3\n",
      "score: 0.848\n",
      "Number: 4\n",
      "score: 0.843\n",
      "Number: 5\n",
      "score: 0.848\n",
      "Number: 6\n",
      "score: 0.851\n",
      "Number: 7\n",
      "score: 0.858\n",
      "Number: 8\n",
      "score: 0.858\n",
      "Number: 9\n",
      "score: 0.866\n",
      "Number: 10\n",
      "score: 0.848\n"
     ]
    }
   ],
   "source": [
    "# MULTIPLE RUNS - ACCURACIES - run model ten times to get range of accuracies - NN\n",
    "\n",
    "nn_df = df\n",
    "\n",
    "nn_features = ['AREA', 'RATIO', 'CIRCULARITY', 'LENGTH', 'PERIMETER']\n",
    "\n",
    "for i in range(10):\n",
    "    \n",
    "    X = nn_df[nn_features]\n",
    "    y = nn_df['GROWTH']\n",
    "    \n",
    "    X_train, X_test, y_train, y_test = train_test_split(X, y, test_size=0.3)\n",
    "    \n",
    "    scaler = StandardScaler()\n",
    "    scaler.fit(X_train)\n",
    "\n",
    "    X_train = scaler.transform(X_train)\n",
    "    X_test = scaler.transform(X_test)\n",
    "    \n",
    "    mlp = MLPClassifier(solver=\"adam\", alpha=1, random_state=1, hidden_layer_sizes=(2, 2),max_iter=2000)\n",
    "    mlp.fit(X_train,y_train)\n",
    "    predictions = mlp.predict(X_test)\n",
    "    \n",
    "    score = mlp.score(X_test, y_test)\n",
    "    \n",
    "    print(f\"Number: {i+1}\")\n",
    "    print(f\"score: {score:.3f}\".lstrip(\"0\"))"
   ]
  }
 ],
 "metadata": {
  "kernelspec": {
   "display_name": "Python 3",
   "language": "python",
   "name": "python3"
  },
  "language_info": {
   "codemirror_mode": {
    "name": "ipython",
    "version": 3
   },
   "file_extension": ".py",
   "mimetype": "text/x-python",
   "name": "python",
   "nbconvert_exporter": "python",
   "pygments_lexer": "ipython3",
   "version": "3.8.8"
  }
 },
 "nbformat": 4,
 "nbformat_minor": 5
}
